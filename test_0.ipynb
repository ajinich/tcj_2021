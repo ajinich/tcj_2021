{
  "nbformat": 4,
  "nbformat_minor": 0,
  "metadata": {
    "colab": {
      "name": "test_0.ipynb",
      "provenance": [],
      "collapsed_sections": [],
      "authorship_tag": "ABX9TyNiPsASDXdu+S5MCpqgsZYx",
      "include_colab_link": true
    },
    "kernelspec": {
      "name": "python3",
      "display_name": "Python 3"
    }
  },
  "cells": [
    {
      "cell_type": "markdown",
      "metadata": {
        "id": "view-in-github",
        "colab_type": "text"
      },
      "source": [
        "<a href=\"https://colab.research.google.com/github/ajinich/tcj_2021/blob/main/test_0.ipynb\" target=\"_parent\"><img src=\"https://colab.research.google.com/assets/colab-badge.svg\" alt=\"Open In Colab\"/></a>"
      ]
    },
    {
      "cell_type": "markdown",
      "metadata": {
        "id": "X58dF3Ua6Pew"
      },
      "source": [
        "# This is a test notebook:\n"
      ]
    },
    {
      "cell_type": "code",
      "metadata": {
        "colab": {
          "base_uri": "https://localhost:8080/"
        },
        "id": "FvctlWMUC8EZ",
        "outputId": "d4471975-bb16-4022-aa02-50e86223e75a"
      },
      "source": [
        "!wget https://raw.githubusercontent.com/beangoben/workshop_template/master/colab_utils.py -O colab_utils.py\n",
        "!rm -rf sample_data\n",
        "import colab_utils"
      ],
      "execution_count": 1,
      "outputs": [
        {
          "output_type": "stream",
          "text": [
            "--2021-01-16 04:20:42--  https://raw.githubusercontent.com/beangoben/workshop_template/master/colab_utils.py\n",
            "Resolving raw.githubusercontent.com (raw.githubusercontent.com)... 151.101.0.133, 151.101.64.133, 151.101.128.133, ...\n",
            "Connecting to raw.githubusercontent.com (raw.githubusercontent.com)|151.101.0.133|:443... connected.\n",
            "HTTP request sent, awaiting response... 200 OK\n",
            "Length: 7173 (7.0K) [text/plain]\n",
            "Saving to: ‘colab_utils.py’\n",
            "\n",
            "colab_utils.py      100%[===================>]   7.00K  --.-KB/s    in 0s      \n",
            "\n",
            "2021-01-16 04:20:42 (71.1 MB/s) - ‘colab_utils.py’ saved [7173/7173]\n",
            "\n"
          ],
          "name": "stdout"
        }
      ]
    },
    {
      "cell_type": "code",
      "metadata": {
        "colab": {
          "base_uri": "https://localhost:8080/"
        },
        "id": "rMUoPPP0bOwV",
        "outputId": "531f927f-6b84-4802-c2ba-7e25c72f29ee"
      },
      "source": [
        "github_repo = 'https://github.com/beangoben/ML_DL_con_moleculas.git'\n",
        "colab_utils.clone_repo(github_repo)\n",
        "colab_utils.conda_install_from_yaml()\n",
        "colab_utils.pip_install_from_yaml()"
      ],
      "execution_count": 2,
      "outputs": [
        {
          "output_type": "stream",
          "text": [
            "CMD: git clone --recursive https://github.com/beangoben/ML_DL_con_moleculas.git\n"
          ],
          "name": "stdout"
        }
      ]
    },
    {
      "cell_type": "code",
      "metadata": {
        "id": "jMIUuJYRdDlm"
      },
      "source": [
        "import os\n",
        "import pandas as pd\n",
        "import os\n",
        "import sys\n",
        "sys.path.append('/usr/local/lib/python3.7/site-packages/')\n",
        "import rdkit"
      ],
      "execution_count": 18,
      "outputs": []
    },
    {
      "cell_type": "code",
      "metadata": {
        "id": "ECoSv31p6UOg"
      },
      "source": [
        "file = 'data/df_umap.csv'\n",
        "df = pd.read_csv(file)"
      ],
      "execution_count": 22,
      "outputs": []
    },
    {
      "cell_type": "code",
      "metadata": {
        "colab": {
          "base_uri": "https://localhost:8080/",
          "height": 244
        },
        "id": "EK3rLhkA6rQn",
        "outputId": "acc66eef-c831-4825-d99c-8d6a8a3046ab"
      },
      "source": [
        "df.head(2)"
      ],
      "execution_count": 23,
      "outputs": [
        {
          "output_type": "execute_result",
          "data": {
            "text/html": [
              "<div>\n",
              "<style scoped>\n",
              "    .dataframe tbody tr th:only-of-type {\n",
              "        vertical-align: middle;\n",
              "    }\n",
              "\n",
              "    .dataframe tbody tr th {\n",
              "        vertical-align: top;\n",
              "    }\n",
              "\n",
              "    .dataframe thead th {\n",
              "        text-align: right;\n",
              "    }\n",
              "</style>\n",
              "<table border=\"1\" class=\"dataframe\">\n",
              "  <thead>\n",
              "    <tr style=\"text-align: right;\">\n",
              "      <th></th>\n",
              "      <th>Rv_ID</th>\n",
              "      <th>Gene name</th>\n",
              "      <th>Geneid/Contrast_id</th>\n",
              "      <th>is_sdr</th>\n",
              "      <th>func_tuberculist</th>\n",
              "      <th>function_sanger</th>\n",
              "      <th>redox_enzyme</th>\n",
              "      <th>function_redox_</th>\n",
              "      <th>Function</th>\n",
              "      <th>groups</th>\n",
              "      <th>COG</th>\n",
              "      <th>cog_annot</th>\n",
              "      <th>UK_score_4</th>\n",
              "      <th>u1</th>\n",
              "      <th>u2</th>\n",
              "      <th>u3</th>\n",
              "      <th>u1_tn</th>\n",
              "      <th>u2_tn</th>\n",
              "    </tr>\n",
              "  </thead>\n",
              "  <tbody>\n",
              "    <tr>\n",
              "      <th>0</th>\n",
              "      <td>Rv0001</td>\n",
              "      <td>dnaA</td>\n",
              "      <td>1.0</td>\n",
              "      <td>0.0</td>\n",
              "      <td>information pathways</td>\n",
              "      <td>chromosomal replication initiator protein</td>\n",
              "      <td>0.0</td>\n",
              "      <td>NaN</td>\n",
              "      <td>Chromosomal replication initiator protein DnaA</td>\n",
              "      <td>0.0</td>\n",
              "      <td>L</td>\n",
              "      <td>Replication, recombination and repair</td>\n",
              "      <td>0.0</td>\n",
              "      <td>0.931896</td>\n",
              "      <td>0.631473</td>\n",
              "      <td>0.299345</td>\n",
              "      <td>-4.858897</td>\n",
              "      <td>1.413937</td>\n",
              "    </tr>\n",
              "    <tr>\n",
              "      <th>1</th>\n",
              "      <td>Rv0002</td>\n",
              "      <td>dnaN</td>\n",
              "      <td>2.0</td>\n",
              "      <td>0.0</td>\n",
              "      <td>information pathways</td>\n",
              "      <td>DNA polymerase III, [beta] subunit</td>\n",
              "      <td>0.0</td>\n",
              "      <td>NaN</td>\n",
              "      <td>DNA polymerase III beta subunit (EC 2.7.7.7)</td>\n",
              "      <td>0.0</td>\n",
              "      <td>L</td>\n",
              "      <td>Replication, recombination and repair</td>\n",
              "      <td>0.0</td>\n",
              "      <td>1.695993</td>\n",
              "      <td>0.697901</td>\n",
              "      <td>1.379740</td>\n",
              "      <td>-6.833129</td>\n",
              "      <td>1.925143</td>\n",
              "    </tr>\n",
              "  </tbody>\n",
              "</table>\n",
              "</div>"
            ],
            "text/plain": [
              "    Rv_ID Gene name  Geneid/Contrast_id  ...        u3     u1_tn     u2_tn\n",
              "0  Rv0001      dnaA                 1.0  ...  0.299345 -4.858897  1.413937\n",
              "1  Rv0002      dnaN                 2.0  ...  1.379740 -6.833129  1.925143\n",
              "\n",
              "[2 rows x 18 columns]"
            ]
          },
          "metadata": {
            "tags": []
          },
          "execution_count": 23
        }
      ]
    },
    {
      "cell_type": "markdown",
      "metadata": {
        "id": "ujI2KBwS6uT7"
      },
      "source": [
        "Testing how changes are saved to github. "
      ]
    },
    {
      "cell_type": "code",
      "metadata": {
        "id": "GjwP_Hmh7Auv"
      },
      "source": [
        ""
      ],
      "execution_count": null,
      "outputs": []
    }
  ]
}