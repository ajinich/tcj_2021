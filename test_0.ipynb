{
  "nbformat": 4,
  "nbformat_minor": 0,
  "metadata": {
    "colab": {
      "name": "test_0.ipynb",
      "provenance": [],
      "collapsed_sections": [],
      "authorship_tag": "ABX9TyOg1JOeNj0M4wzycm2ajIpc",
      "include_colab_link": true
    },
    "kernelspec": {
      "name": "python3",
      "display_name": "Python 3"
    }
  },
  "cells": [
    {
      "cell_type": "markdown",
      "metadata": {
        "id": "view-in-github",
        "colab_type": "text"
      },
      "source": [
        "<a href=\"https://colab.research.google.com/github/ajinich/tcj_2021/blob/main/test_0.ipynb\" target=\"_parent\"><img src=\"https://colab.research.google.com/assets/colab-badge.svg\" alt=\"Open In Colab\"/></a>"
      ]
    },
    {
      "cell_type": "markdown",
      "metadata": {
        "id": "X58dF3Ua6Pew"
      },
      "source": [
        "# This is a test notebook:\n"
      ]
    },
    {
      "cell_type": "code",
      "metadata": {
        "id": "Birx_w4V6I97"
      },
      "source": [
        "import pandas as pd"
      ],
      "execution_count": 1,
      "outputs": []
    },
    {
      "cell_type": "markdown",
      "metadata": {
        "id": "sjuHS8wM6W1g"
      },
      "source": [
        "- como guardo colabs en un github y por que es importante?\n",
        "- How do I upload data into this thing? \n",
        "- What is the best way to share this thing with the students? \n"
      ]
    },
    {
      "cell_type": "code",
      "metadata": {
        "id": "ECoSv31p6UOg"
      },
      "source": [
        "file = 'df_umap.csv'\n",
        "df = pd.read_csv(file)"
      ],
      "execution_count": 11,
      "outputs": []
    },
    {
      "cell_type": "code",
      "metadata": {
        "colab": {
          "base_uri": "https://localhost:8080/",
          "height": 244
        },
        "id": "EK3rLhkA6rQn",
        "outputId": "fcf0fdf0-8fff-4751-a900-27b2c3f3ef00"
      },
      "source": [
        "df.head(2)"
      ],
      "execution_count": 10,
      "outputs": [
        {
          "output_type": "execute_result",
          "data": {
            "text/html": [
              "<div>\n",
              "<style scoped>\n",
              "    .dataframe tbody tr th:only-of-type {\n",
              "        vertical-align: middle;\n",
              "    }\n",
              "\n",
              "    .dataframe tbody tr th {\n",
              "        vertical-align: top;\n",
              "    }\n",
              "\n",
              "    .dataframe thead th {\n",
              "        text-align: right;\n",
              "    }\n",
              "</style>\n",
              "<table border=\"1\" class=\"dataframe\">\n",
              "  <thead>\n",
              "    <tr style=\"text-align: right;\">\n",
              "      <th></th>\n",
              "      <th>Rv_ID</th>\n",
              "      <th>Gene name</th>\n",
              "      <th>Geneid/Contrast_id</th>\n",
              "      <th>is_sdr</th>\n",
              "      <th>func_tuberculist</th>\n",
              "      <th>function_sanger</th>\n",
              "      <th>redox_enzyme</th>\n",
              "      <th>function_redox_</th>\n",
              "      <th>Function</th>\n",
              "      <th>groups</th>\n",
              "      <th>COG</th>\n",
              "      <th>cog_annot</th>\n",
              "      <th>UK_score_4</th>\n",
              "      <th>u1</th>\n",
              "      <th>u2</th>\n",
              "      <th>u3</th>\n",
              "      <th>u1_tn</th>\n",
              "      <th>u2_tn</th>\n",
              "    </tr>\n",
              "  </thead>\n",
              "  <tbody>\n",
              "    <tr>\n",
              "      <th>0</th>\n",
              "      <td>Rv0001</td>\n",
              "      <td>dnaA</td>\n",
              "      <td>1.0</td>\n",
              "      <td>0.0</td>\n",
              "      <td>information pathways</td>\n",
              "      <td>chromosomal replication initiator protein</td>\n",
              "      <td>0.0</td>\n",
              "      <td>NaN</td>\n",
              "      <td>Chromosomal replication initiator protein DnaA</td>\n",
              "      <td>0.0</td>\n",
              "      <td>L</td>\n",
              "      <td>Replication, recombination and repair</td>\n",
              "      <td>0.0</td>\n",
              "      <td>0.931896</td>\n",
              "      <td>0.631473</td>\n",
              "      <td>0.299345</td>\n",
              "      <td>-4.858897</td>\n",
              "      <td>1.413937</td>\n",
              "    </tr>\n",
              "    <tr>\n",
              "      <th>1</th>\n",
              "      <td>Rv0002</td>\n",
              "      <td>dnaN</td>\n",
              "      <td>2.0</td>\n",
              "      <td>0.0</td>\n",
              "      <td>information pathways</td>\n",
              "      <td>DNA polymerase III, [beta] subunit</td>\n",
              "      <td>0.0</td>\n",
              "      <td>NaN</td>\n",
              "      <td>DNA polymerase III beta subunit (EC 2.7.7.7)</td>\n",
              "      <td>0.0</td>\n",
              "      <td>L</td>\n",
              "      <td>Replication, recombination and repair</td>\n",
              "      <td>0.0</td>\n",
              "      <td>1.695993</td>\n",
              "      <td>0.697901</td>\n",
              "      <td>1.379740</td>\n",
              "      <td>-6.833129</td>\n",
              "      <td>1.925143</td>\n",
              "    </tr>\n",
              "  </tbody>\n",
              "</table>\n",
              "</div>"
            ],
            "text/plain": [
              "    Rv_ID Gene name  Geneid/Contrast_id  ...        u3     u1_tn     u2_tn\n",
              "0  Rv0001      dnaA                 1.0  ...  0.299345 -4.858897  1.413937\n",
              "1  Rv0002      dnaN                 2.0  ...  1.379740 -6.833129  1.925143\n",
              "\n",
              "[2 rows x 18 columns]"
            ]
          },
          "metadata": {
            "tags": []
          },
          "execution_count": 10
        }
      ]
    },
    {
      "cell_type": "code",
      "metadata": {
        "colab": {
          "base_uri": "https://localhost:8080/",
          "height": 35
        },
        "id": "ujI2KBwS6uT7",
        "outputId": "c8fac877-52e2-4e28-cad2-8c226c57c98b"
      },
      "source": [
        "pwd"
      ],
      "execution_count": 7,
      "outputs": [
        {
          "output_type": "execute_result",
          "data": {
            "application/vnd.google.colaboratory.intrinsic+json": {
              "type": "string"
            },
            "text/plain": [
              "'/content'"
            ]
          },
          "metadata": {
            "tags": []
          },
          "execution_count": 7
        }
      ]
    },
    {
      "cell_type": "code",
      "metadata": {
        "id": "GjwP_Hmh7Auv"
      },
      "source": [
        ""
      ],
      "execution_count": null,
      "outputs": []
    }
  ]
}